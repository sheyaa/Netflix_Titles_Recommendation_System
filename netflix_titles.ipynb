{
 "cells": [
  {
   "cell_type": "code",
   "execution_count": 1,
   "id": "edadf119",
   "metadata": {},
   "outputs": [],
   "source": [
    "import pandas as pd\n",
    "import re\n",
    "import nltk\n",
    "from nltk.corpus import stopwords\n",
    "from nltk.stem import PorterStemmer\n",
    "from nltk.tokenize import word_tokenize"
   ]
  },
  {
   "cell_type": "code",
   "execution_count": 2,
   "id": "233b3b24",
   "metadata": {},
   "outputs": [],
   "source": [
    "df = pd.read_excel('netflix_titles.xlsx')\n",
    "#print(df)"
   ]
  },
  {
   "cell_type": "code",
   "execution_count": 3,
   "id": "d91a7ac3",
   "metadata": {},
   "outputs": [
    {
     "name": "stdout",
     "output_type": "stream",
     "text": [
      "null description values: 3\n"
     ]
    }
   ],
   "source": [
    "# Checking if any descriptions are null (empty)\n",
    "null_description_values = df['description'].isnull().sum()\n",
    "print(\"null description values:\", null_description_values)"
   ]
  },
  {
   "cell_type": "code",
   "execution_count": 4,
   "id": "f0a65b60",
   "metadata": {},
   "outputs": [
    {
     "name": "stdout",
     "output_type": "stream",
     "text": [
      "null description values: 0\n"
     ]
    }
   ],
   "source": [
    "# Removing those null values \n",
    "dropped_description = df['description'].dropna()\n",
    "null_description_values2 = dropped_description.isnull().sum()\n",
    "print(\"null description values:\", null_description_values2)"
   ]
  },
  {
   "cell_type": "code",
   "execution_count": 5,
   "id": "b70fdd9f",
   "metadata": {},
   "outputs": [
    {
     "data": {
      "text/plain": [
       "0       Before planning an awesome wedding for his gra...\n",
       "1       Jandino Asporaat riffs on the challenges of ra...\n",
       "2       With the help of three human allies, the Autob...\n",
       "3       When a prison ship crash unleashes hundreds of...\n",
       "4       When nerdy high schooler Dani finally attracts...\n",
       "                              ...                        \n",
       "6231    This parody of first-person shooter games, mil...\n",
       "6232    Marc Maron stars as Marc Maron, who interviews...\n",
       "6233    Nursery rhymes and original music for children...\n",
       "6234    Set during the Russian Revolution, this comic ...\n",
       "6235    This hit sitcom follows the merry misadventure...\n",
       "Name: description, Length: 6236, dtype: object"
      ]
     },
     "execution_count": 5,
     "metadata": {},
     "output_type": "execute_result"
    }
   ],
   "source": [
    "# Convert float to string\n",
    "df['description'] = df['description'].astype(str)\n",
    "df['description']"
   ]
  },
  {
   "cell_type": "markdown",
   "id": "3a30313a",
   "metadata": {},
   "source": [
    "## 1. Preprocessing:\n",
    "- Lowercase: Convert all text to lowercase to ensure uniformity.\n",
    "- Remove Punctuation: Strip out any punctuation marks.\n",
    "- Tokenization: Split the description into individual words (tokens).\n",
    "- Stopword Removal: Remove common words that don’t carry much meaning (e.g., “the”, “is”, “in”).\n",
    "- Stemming/Lemmatization: Reduce words to their root form (e.g., “running” becomes “run”)."
   ]
  },
  {
   "cell_type": "code",
   "execution_count": 6,
   "id": "8b2b056f",
   "metadata": {},
   "outputs": [],
   "source": [
    "# Preprocessing function\n",
    "def preprocess_text(text):\n",
    "    text = text.lower()  # Convert to lowercase\n",
    "    text = re.sub(r'[^\\w\\s]', '', text)  # Remove punctuation\n",
    "    tokens = word_tokenize(text)  # Tokenization\n",
    "    tokens = [word for word in tokens if word not in stopwords.words('english')]  # Remove stopwords\n",
    "    ps = PorterStemmer()  # Initialize stemmer\n",
    "    tokens = [ps.stem(word) for word in tokens]  # Stemming\n",
    "    return \" \".join(tokens)"
   ]
  },
  {
   "cell_type": "code",
   "execution_count": 7,
   "id": "00693ede",
   "metadata": {},
   "outputs": [],
   "source": [
    "# Apply preprocessing\n",
    "df['processed_description'] = df['description'].apply(preprocess_text)"
   ]
  },
  {
   "cell_type": "markdown",
   "id": "989a75d6",
   "metadata": {},
   "source": [
    "## 2. Converting Text to Numerical Representation:\n",
    "- Use sklearn to compute the TF-IDF\n",
    "- Inverse Document Frequency (IDF): Measures how unique a word is across all documents in the dataset."
   ]
  },
  {
   "cell_type": "code",
   "execution_count": 8,
   "id": "398348d4",
   "metadata": {
    "scrolled": true
   },
   "outputs": [],
   "source": [
    "from sklearn.feature_extraction.text import TfidfVectorizer\n",
    "\n",
    "# Initialize TF-IDF vectorizer\n",
    "tfidf = TfidfVectorizer()\n",
    "\n",
    "# Fit and transform the processed descriptions\n",
    "tfidf_matrix = tfidf.fit_transform(df['processed_description'])\n",
    "\n",
    "# Convert the matrix to a DataFrame for easier viewing (optional)\n",
    "tfidf_df = pd.DataFrame(tfidf_matrix.toarray(), columns=tfidf.get_feature_names())\n"
   ]
  },
  {
   "cell_type": "markdown",
   "id": "016242b5",
   "metadata": {},
   "source": [
    "## 3. Computing Cosine Similarity:\n",
    "- Cosine similarity measures the angle between two vectors in a multi-dimensional space, which tells us how similar they are. \n",
    "- A cosine similarity of 1 means the vectors are identical, and a value of 0 means they are completely different. \n",
    "- The output will show a similarity matrix, where each entry represents the similarity score between two movies or TV shows based on their descriptions."
   ]
  },
  {
   "cell_type": "code",
   "execution_count": 9,
   "id": "a907c6d4",
   "metadata": {},
   "outputs": [
    {
     "name": "stdout",
     "output_type": "stream",
     "text": [
      "title                                        Norm of the North: King Sized Adventure  \\\n",
      "title                                                                                  \n",
      "Norm of the North: King Sized Adventure                                          1.0   \n",
      "Jandino: Whatever it Takes                                                       0.0   \n",
      "Transformers Prime                                                               0.0   \n",
      "Transformers: Robots in Disguise                                                 0.0   \n",
      "#realityhigh                                                                     0.0   \n",
      "...                                                                              ...   \n",
      "Red vs. Blue                                                                     0.0   \n",
      "Maron                                                                            0.0   \n",
      "Little Baby Bum: Nursery Rhyme Friends                                           0.0   \n",
      "A Young Doctor's Notebook and Other Stories                                      0.0   \n",
      "Friends                                                                          0.0   \n",
      "\n",
      "title                                        Jandino: Whatever it Takes  \\\n",
      "title                                                                     \n",
      "Norm of the North: King Sized Adventure                             0.0   \n",
      "Jandino: Whatever it Takes                                          1.0   \n",
      "Transformers Prime                                                  0.0   \n",
      "Transformers: Robots in Disguise                                    0.0   \n",
      "#realityhigh                                                        0.0   \n",
      "...                                                                 ...   \n",
      "Red vs. Blue                                                        0.0   \n",
      "Maron                                                               0.0   \n",
      "Little Baby Bum: Nursery Rhyme Friends                              0.0   \n",
      "A Young Doctor's Notebook and Other Stories                         0.0   \n",
      "Friends                                                             0.0   \n",
      "\n",
      "title                                        Transformers Prime  \\\n",
      "title                                                             \n",
      "Norm of the North: King Sized Adventure                0.000000   \n",
      "Jandino: Whatever it Takes                             0.000000   \n",
      "Transformers Prime                                     1.000000   \n",
      "Transformers: Robots in Disguise                       0.374294   \n",
      "#realityhigh                                           0.000000   \n",
      "...                                                         ...   \n",
      "Red vs. Blue                                           0.000000   \n",
      "Maron                                                  0.000000   \n",
      "Little Baby Bum: Nursery Rhyme Friends                 0.000000   \n",
      "A Young Doctor's Notebook and Other Stories            0.000000   \n",
      "Friends                                                0.000000   \n",
      "\n",
      "title                                        Transformers: Robots in Disguise  \\\n",
      "title                                                                           \n",
      "Norm of the North: King Sized Adventure                              0.000000   \n",
      "Jandino: Whatever it Takes                                           0.000000   \n",
      "Transformers Prime                                                   0.374294   \n",
      "Transformers: Robots in Disguise                                     1.000000   \n",
      "#realityhigh                                                         0.000000   \n",
      "...                                                                       ...   \n",
      "Red vs. Blue                                                         0.000000   \n",
      "Maron                                                                0.000000   \n",
      "Little Baby Bum: Nursery Rhyme Friends                               0.000000   \n",
      "A Young Doctor's Notebook and Other Stories                          0.000000   \n",
      "Friends                                                              0.000000   \n",
      "\n",
      "title                                        #realityhigh   Apaches  Automata  \\\n",
      "title                                                                           \n",
      "Norm of the North: King Sized Adventure               0.0  0.000000       0.0   \n",
      "Jandino: Whatever it Takes                            0.0  0.000000       0.0   \n",
      "Transformers Prime                                    0.0  0.000000       0.0   \n",
      "Transformers: Robots in Disguise                      0.0  0.037016       0.0   \n",
      "#realityhigh                                          1.0  0.000000       0.0   \n",
      "...                                                   ...       ...       ...   \n",
      "Red vs. Blue                                          0.0  0.019632       0.0   \n",
      "Maron                                                 0.0  0.000000       0.0   \n",
      "Little Baby Bum: Nursery Rhyme Friends                0.0  0.000000       0.0   \n",
      "A Young Doctor's Notebook and Other Stories           0.0  0.054755       0.0   \n",
      "Friends                                               0.0  0.022096       0.0   \n",
      "\n",
      "title                                        Fabrizio Copano: Solo pienso en mi  \\\n",
      "title                                                                             \n",
      "Norm of the North: King Sized Adventure                                0.022417   \n",
      "Jandino: Whatever it Takes                                             0.064583   \n",
      "Transformers Prime                                                     0.000000   \n",
      "Transformers: Robots in Disguise                                       0.000000   \n",
      "#realityhigh                                                           0.000000   \n",
      "...                                                                         ...   \n",
      "Red vs. Blue                                                           0.000000   \n",
      "Maron                                                                  0.000000   \n",
      "Little Baby Bum: Nursery Rhyme Friends                                 0.000000   \n",
      "A Young Doctor's Notebook and Other Stories                            0.033978   \n",
      "Friends                                                                0.000000   \n",
      "\n",
      "title                                        Fire Chasers  Good People  ...  \\\n",
      "title                                                                   ...   \n",
      "Norm of the North: King Sized Adventure          0.000000          0.0  ...   \n",
      "Jandino: Whatever it Takes                       0.061358          0.0  ...   \n",
      "Transformers Prime                               0.049881          0.0  ...   \n",
      "Transformers: Robots in Disguise                 0.044857          0.0  ...   \n",
      "#realityhigh                                     0.000000          0.0  ...   \n",
      "...                                                   ...          ...  ...   \n",
      "Red vs. Blue                                     0.000000          0.0  ...   \n",
      "Maron                                            0.000000          0.0  ...   \n",
      "Little Baby Bum: Nursery Rhyme Friends           0.000000          0.0  ...   \n",
      "A Young Doctor's Notebook and Other Stories      0.000000          0.0  ...   \n",
      "Friends                                          0.000000          0.0  ...   \n",
      "\n",
      "title                                        Anthony Bourdain: Parts Unknown  \\\n",
      "title                                                                          \n",
      "Norm of the North: King Sized Adventure                              0.00000   \n",
      "Jandino: Whatever it Takes                                           0.00000   \n",
      "Transformers Prime                                                   0.00000   \n",
      "Transformers: Robots in Disguise                                     0.00000   \n",
      "#realityhigh                                                         0.00000   \n",
      "...                                                                      ...   \n",
      "Red vs. Blue                                                         0.00000   \n",
      "Maron                                                                0.00000   \n",
      "Little Baby Bum: Nursery Rhyme Friends                               0.05656   \n",
      "A Young Doctor's Notebook and Other Stories                          0.00000   \n",
      "Friends                                                              0.00000   \n",
      "\n",
      "title                                         Frasier  La Familia P. Luche  \\\n",
      "title                                                                        \n",
      "Norm of the North: King Sized Adventure      0.000000             0.000000   \n",
      "Jandino: Whatever it Takes                   0.030065             0.000000   \n",
      "Transformers Prime                           0.000000             0.030501   \n",
      "Transformers: Robots in Disguise             0.000000             0.000000   \n",
      "#realityhigh                                 0.000000             0.000000   \n",
      "...                                               ...                  ...   \n",
      "Red vs. Blue                                 0.000000             0.000000   \n",
      "Maron                                        0.030235             0.000000   \n",
      "Little Baby Bum: Nursery Rhyme Friends       0.000000             0.045784   \n",
      "A Young Doctor's Notebook and Other Stories  0.000000             0.000000   \n",
      "Friends                                      0.000000             0.078717   \n",
      "\n",
      "title                                        The Adventures of Figaro Pho  \\\n",
      "title                                                                       \n",
      "Norm of the North: King Sized Adventure                           0.00000   \n",
      "Jandino: Whatever it Takes                                        0.00000   \n",
      "Transformers Prime                                                0.00000   \n",
      "Transformers: Robots in Disguise                                  0.00000   \n",
      "#realityhigh                                                      0.00000   \n",
      "...                                                                   ...   \n",
      "Red vs. Blue                                                      0.00000   \n",
      "Maron                                                             0.00000   \n",
      "Little Baby Bum: Nursery Rhyme Friends                            0.08165   \n",
      "A Young Doctor's Notebook and Other Stories                       0.00000   \n",
      "Friends                                                           0.00000   \n",
      "\n",
      "title                                        Kikoriki  Red vs. Blue  Maron  \\\n",
      "title                                                                        \n",
      "Norm of the North: King Sized Adventure      0.000000      0.000000    0.0   \n",
      "Jandino: Whatever it Takes                   0.000000      0.000000    0.0   \n",
      "Transformers Prime                           0.000000      0.000000    0.0   \n",
      "Transformers: Robots in Disguise             0.000000      0.000000    0.0   \n",
      "#realityhigh                                 0.000000      0.000000    0.0   \n",
      "...                                               ...           ...    ...   \n",
      "Red vs. Blue                                 0.000000      1.000000    0.0   \n",
      "Maron                                        0.000000      0.000000    1.0   \n",
      "Little Baby Bum: Nursery Rhyme Friends       0.046298      0.000000    0.0   \n",
      "A Young Doctor's Notebook and Other Stories  0.000000      0.000000    0.0   \n",
      "Friends                                      0.052019      0.017432    0.0   \n",
      "\n",
      "title                                        Little Baby Bum: Nursery Rhyme Friends  \\\n",
      "title                                                                                 \n",
      "Norm of the North: King Sized Adventure                                         0.0   \n",
      "Jandino: Whatever it Takes                                                      0.0   \n",
      "Transformers Prime                                                              0.0   \n",
      "Transformers: Robots in Disguise                                                0.0   \n",
      "#realityhigh                                                                    0.0   \n",
      "...                                                                             ...   \n",
      "Red vs. Blue                                                                    0.0   \n",
      "Maron                                                                           0.0   \n",
      "Little Baby Bum: Nursery Rhyme Friends                                          1.0   \n",
      "A Young Doctor's Notebook and Other Stories                                     0.0   \n",
      "Friends                                                                         0.0   \n",
      "\n",
      "title                                        A Young Doctor's Notebook and Other Stories  \\\n",
      "title                                                                                      \n",
      "Norm of the North: King Sized Adventure                                         0.000000   \n",
      "Jandino: Whatever it Takes                                                      0.000000   \n",
      "Transformers Prime                                                              0.000000   \n",
      "Transformers: Robots in Disguise                                                0.000000   \n",
      "#realityhigh                                                                    0.000000   \n",
      "...                                                                                  ...   \n",
      "Red vs. Blue                                                                    0.000000   \n",
      "Maron                                                                           0.000000   \n",
      "Little Baby Bum: Nursery Rhyme Friends                                          0.000000   \n",
      "A Young Doctor's Notebook and Other Stories                                     1.000000   \n",
      "Friends                                                                         0.040576   \n",
      "\n",
      "title                                         Friends  \n",
      "title                                                  \n",
      "Norm of the North: King Sized Adventure      0.000000  \n",
      "Jandino: Whatever it Takes                   0.000000  \n",
      "Transformers Prime                           0.000000  \n",
      "Transformers: Robots in Disguise             0.000000  \n",
      "#realityhigh                                 0.000000  \n",
      "...                                               ...  \n",
      "Red vs. Blue                                 0.017432  \n",
      "Maron                                        0.000000  \n",
      "Little Baby Bum: Nursery Rhyme Friends       0.000000  \n",
      "A Young Doctor's Notebook and Other Stories  0.040576  \n",
      "Friends                                      1.000000  \n",
      "\n",
      "[6236 rows x 6236 columns]\n"
     ]
    }
   ],
   "source": [
    "from sklearn.metrics.pairwise import cosine_similarity\n",
    "\n",
    "# Compute cosine similarity matrix\n",
    "cosine_sim = cosine_similarity(tfidf_matrix, tfidf_matrix)\n",
    "\n",
    "# Convert the similarity matrix into a DataFrame for better readability\n",
    "similarity_df = pd.DataFrame(cosine_sim, index=df['title'], columns=df['title'])\n",
    "\n",
    "# View similarity scores between titles\n",
    "print(similarity_df)"
   ]
  },
  {
   "cell_type": "markdown",
   "id": "1314084e",
   "metadata": {},
   "source": [
    "## 4. Recommend Based on Similarity:\n",
    "\n",
    "- Now that you have the similarity scores, you can recommend the most similar titles for any given title. \n",
    "    - For example, if you want to recommend similar shows to “Movie X”, you can sort the similarity scores for “Movie X” and pick the top results."
   ]
  },
  {
   "cell_type": "code",
   "execution_count": 10,
   "id": "dced859d",
   "metadata": {},
   "outputs": [
    {
     "name": "stdout",
     "output_type": "stream",
     "text": [
      "20      Manhattan Romance\n",
      "5845    Trailer Park Boys\n",
      "6147         Workin' Moms\n",
      "5989             Episodes\n",
      "1524           Warehoused\n",
      "Name: title, dtype: object\n"
     ]
    }
   ],
   "source": [
    "def get_recommendations(title, similarity_matrix, df):\n",
    "    # Get the index of the title\n",
    "    idx = df[df['title'] == title].index[0]\n",
    "    # Get similarity scores for that title\n",
    "    sim_scores = list(enumerate(similarity_matrix[idx]))\n",
    "    # Sort by similarity score\n",
    "    sim_scores = sorted(sim_scores, key=lambda x: x[1], reverse=True)\n",
    "    # Get the indices of the top 5 most similar titles (excluding the first one, which is itself)\n",
    "    sim_scores = sim_scores[1:6]\n",
    "    # Get the recommended titles\n",
    "    movie_indices = [i[0] for i in sim_scores]\n",
    "    return df['title'].iloc[movie_indices]\n",
    "\n",
    "# Get recommendations for 'Transformers Prime'\n",
    "recommendations = get_recommendations('Friends', cosine_sim, df)\n",
    "print(recommendations)\n"
   ]
  },
  {
   "cell_type": "code",
   "execution_count": null,
   "id": "43d572ca",
   "metadata": {},
   "outputs": [],
   "source": []
  }
 ],
 "metadata": {
  "kernelspec": {
   "display_name": "Python 3",
   "language": "python",
   "name": "python3"
  },
  "language_info": {
   "codemirror_mode": {
    "name": "ipython",
    "version": 3
   },
   "file_extension": ".py",
   "mimetype": "text/x-python",
   "name": "python",
   "nbconvert_exporter": "python",
   "pygments_lexer": "ipython3",
   "version": "3.8.8"
  }
 },
 "nbformat": 4,
 "nbformat_minor": 5
}
